{
 "cells": [
  {
   "cell_type": "markdown",
   "id": "48ebd252",
   "metadata": {},
   "source": [
    "# Basic Statistics Case Study"
   ]
  },
  {
   "cell_type": "markdown",
   "id": "52ef0921",
   "metadata": {},
   "source": [
    "## BUSINESS PROBLEM - 1"
   ]
  },
  {
   "cell_type": "markdown",
   "id": "84e5e56c",
   "metadata": {},
   "source": [
    "Using lending club loans data, the team would like to test below hypothesis on how different \n",
    "factors effecting each other (Hint: You may leverage hypothesis testing using statistical tests)\n",
    "\n",
    "a. Interest rate is varied for different loan amounts (Less interest charged for high loan \n",
    "amounts)\n",
    "\n",
    "b. Loan length is directly effecting interest rate.\n",
    "\n",
    "c. Interest rate varies for different purpose of loans\n",
    "\n",
    "d. There is relationship between FICO scores and Home Ownership. It means that, People \n",
    "with owning home will have high FICO scores."
   ]
  },
  {
   "cell_type": "markdown",
   "id": "0d445771",
   "metadata": {},
   "source": [
    "### Import necessary libraries"
   ]
  },
  {
   "cell_type": "code",
   "execution_count": 23,
   "id": "4d85e044",
   "metadata": {},
   "outputs": [],
   "source": [
    "import pandas as pd\n",
    "import scipy.stats as stats"
   ]
  },
  {
   "cell_type": "markdown",
   "id": "04eec5bf",
   "metadata": {},
   "source": [
    "### Import the data set"
   ]
  },
  {
   "cell_type": "code",
   "execution_count": 21,
   "id": "400ea135",
   "metadata": {},
   "outputs": [
    {
     "data": {
      "text/html": [
       "<div>\n",
       "<style scoped>\n",
       "    .dataframe tbody tr th:only-of-type {\n",
       "        vertical-align: middle;\n",
       "    }\n",
       "\n",
       "    .dataframe tbody tr th {\n",
       "        vertical-align: top;\n",
       "    }\n",
       "\n",
       "    .dataframe thead th {\n",
       "        text-align: right;\n",
       "    }\n",
       "</style>\n",
       "<table border=\"1\" class=\"dataframe\">\n",
       "  <thead>\n",
       "    <tr style=\"text-align: right;\">\n",
       "      <th></th>\n",
       "      <th>Amount.Requested</th>\n",
       "      <th>Amount.Funded.By.Investors</th>\n",
       "      <th>Interest.Rate</th>\n",
       "      <th>Loan.Length</th>\n",
       "      <th>Loan.Purpose</th>\n",
       "      <th>Debt.To.Income.Ratio</th>\n",
       "      <th>State</th>\n",
       "      <th>Home.Ownership</th>\n",
       "      <th>Monthly.Income</th>\n",
       "      <th>FICO.Range</th>\n",
       "      <th>Open.CREDIT.Lines</th>\n",
       "      <th>Revolving.CREDIT.Balance</th>\n",
       "      <th>Inquiries.in.the.Last.6.Months</th>\n",
       "      <th>Employment.Length</th>\n",
       "    </tr>\n",
       "  </thead>\n",
       "  <tbody>\n",
       "    <tr>\n",
       "      <th>0</th>\n",
       "      <td>20000.0</td>\n",
       "      <td>20000.0</td>\n",
       "      <td>8.90%</td>\n",
       "      <td>36 months</td>\n",
       "      <td>debt_consolidation</td>\n",
       "      <td>14.90%</td>\n",
       "      <td>SC</td>\n",
       "      <td>MORTGAGE</td>\n",
       "      <td>6541.67</td>\n",
       "      <td>735-739</td>\n",
       "      <td>14.0</td>\n",
       "      <td>14272.0</td>\n",
       "      <td>2.0</td>\n",
       "      <td>&lt; 1 year</td>\n",
       "    </tr>\n",
       "    <tr>\n",
       "      <th>1</th>\n",
       "      <td>19200.0</td>\n",
       "      <td>19200.0</td>\n",
       "      <td>12.12%</td>\n",
       "      <td>36 months</td>\n",
       "      <td>debt_consolidation</td>\n",
       "      <td>28.36%</td>\n",
       "      <td>TX</td>\n",
       "      <td>MORTGAGE</td>\n",
       "      <td>4583.33</td>\n",
       "      <td>715-719</td>\n",
       "      <td>12.0</td>\n",
       "      <td>11140.0</td>\n",
       "      <td>1.0</td>\n",
       "      <td>2 years</td>\n",
       "    </tr>\n",
       "    <tr>\n",
       "      <th>2</th>\n",
       "      <td>35000.0</td>\n",
       "      <td>35000.0</td>\n",
       "      <td>21.98%</td>\n",
       "      <td>60 months</td>\n",
       "      <td>debt_consolidation</td>\n",
       "      <td>23.81%</td>\n",
       "      <td>CA</td>\n",
       "      <td>MORTGAGE</td>\n",
       "      <td>11500.00</td>\n",
       "      <td>690-694</td>\n",
       "      <td>14.0</td>\n",
       "      <td>21977.0</td>\n",
       "      <td>1.0</td>\n",
       "      <td>2 years</td>\n",
       "    </tr>\n",
       "    <tr>\n",
       "      <th>3</th>\n",
       "      <td>10000.0</td>\n",
       "      <td>9975.0</td>\n",
       "      <td>9.99%</td>\n",
       "      <td>36 months</td>\n",
       "      <td>debt_consolidation</td>\n",
       "      <td>14.30%</td>\n",
       "      <td>KS</td>\n",
       "      <td>MORTGAGE</td>\n",
       "      <td>3833.33</td>\n",
       "      <td>695-699</td>\n",
       "      <td>10.0</td>\n",
       "      <td>9346.0</td>\n",
       "      <td>0.0</td>\n",
       "      <td>5 years</td>\n",
       "    </tr>\n",
       "    <tr>\n",
       "      <th>4</th>\n",
       "      <td>12000.0</td>\n",
       "      <td>12000.0</td>\n",
       "      <td>11.71%</td>\n",
       "      <td>36 months</td>\n",
       "      <td>credit_card</td>\n",
       "      <td>18.78%</td>\n",
       "      <td>NJ</td>\n",
       "      <td>RENT</td>\n",
       "      <td>3195.00</td>\n",
       "      <td>695-699</td>\n",
       "      <td>11.0</td>\n",
       "      <td>14469.0</td>\n",
       "      <td>0.0</td>\n",
       "      <td>9 years</td>\n",
       "    </tr>\n",
       "  </tbody>\n",
       "</table>\n",
       "</div>"
      ],
      "text/plain": [
       "   Amount.Requested  Amount.Funded.By.Investors Interest.Rate Loan.Length  \\\n",
       "0           20000.0                     20000.0         8.90%   36 months   \n",
       "1           19200.0                     19200.0        12.12%   36 months   \n",
       "2           35000.0                     35000.0        21.98%   60 months   \n",
       "3           10000.0                      9975.0         9.99%   36 months   \n",
       "4           12000.0                     12000.0        11.71%   36 months   \n",
       "\n",
       "         Loan.Purpose Debt.To.Income.Ratio State Home.Ownership  \\\n",
       "0  debt_consolidation               14.90%    SC       MORTGAGE   \n",
       "1  debt_consolidation               28.36%    TX       MORTGAGE   \n",
       "2  debt_consolidation               23.81%    CA       MORTGAGE   \n",
       "3  debt_consolidation               14.30%    KS       MORTGAGE   \n",
       "4         credit_card               18.78%    NJ           RENT   \n",
       "\n",
       "   Monthly.Income FICO.Range  Open.CREDIT.Lines  Revolving.CREDIT.Balance  \\\n",
       "0         6541.67    735-739               14.0                   14272.0   \n",
       "1         4583.33    715-719               12.0                   11140.0   \n",
       "2        11500.00    690-694               14.0                   21977.0   \n",
       "3         3833.33    695-699               10.0                    9346.0   \n",
       "4         3195.00    695-699               11.0                   14469.0   \n",
       "\n",
       "   Inquiries.in.the.Last.6.Months Employment.Length  \n",
       "0                             2.0          < 1 year  \n",
       "1                             1.0           2 years  \n",
       "2                             1.0           2 years  \n",
       "3                             0.0           5 years  \n",
       "4                             0.0           9 years  "
      ]
     },
     "execution_count": 21,
     "metadata": {},
     "output_type": "execute_result"
    }
   ],
   "source": [
    "loans = pd.read_csv('LoansData.csv')\n",
    "loans.head()"
   ]
  },
  {
   "cell_type": "markdown",
   "id": "a3c0870c",
   "metadata": {},
   "source": [
    "### Exploratory Data Analysis"
   ]
  },
  {
   "cell_type": "code",
   "execution_count": 5,
   "id": "10c473ed",
   "metadata": {},
   "outputs": [
    {
     "name": "stdout",
     "output_type": "stream",
     "text": [
      "(2500, 14)\n"
     ]
    }
   ],
   "source": [
    "print(loans.shape)"
   ]
  },
  {
   "cell_type": "code",
   "execution_count": 6,
   "id": "118427fa",
   "metadata": {},
   "outputs": [
    {
     "data": {
      "text/plain": [
       "Amount.Requested                  float64\n",
       "Amount.Funded.By.Investors        float64\n",
       "Interest.Rate                      object\n",
       "Loan.Length                        object\n",
       "Loan.Purpose                       object\n",
       "Debt.To.Income.Ratio               object\n",
       "State                              object\n",
       "Home.Ownership                     object\n",
       "Monthly.Income                    float64\n",
       "FICO.Range                         object\n",
       "Open.CREDIT.Lines                 float64\n",
       "Revolving.CREDIT.Balance          float64\n",
       "Inquiries.in.the.Last.6.Months    float64\n",
       "Employment.Length                  object\n",
       "dtype: object"
      ]
     },
     "execution_count": 6,
     "metadata": {},
     "output_type": "execute_result"
    }
   ],
   "source": [
    "loans.dtypes"
   ]
  },
  {
   "cell_type": "code",
   "execution_count": 22,
   "id": "12109e21",
   "metadata": {},
   "outputs": [
    {
     "data": {
      "text/plain": [
       "Amount.Requested                  float64\n",
       "Amount.Funded.By.Investors        float64\n",
       "Interest.Rate                     float64\n",
       "Loan.Length                       float64\n",
       "Loan.Purpose                       object\n",
       "Debt.To.Income.Ratio              float64\n",
       "State                              object\n",
       "Home.Ownership                     object\n",
       "Monthly.Income                    float64\n",
       "FICO.Range                         object\n",
       "Open.CREDIT.Lines                 float64\n",
       "Revolving.CREDIT.Balance          float64\n",
       "Inquiries.in.the.Last.6.Months    float64\n",
       "Employment.Length                  object\n",
       "dtype: object"
      ]
     },
     "execution_count": 22,
     "metadata": {},
     "output_type": "execute_result"
    }
   ],
   "source": [
    "loans['Interest.Rate'] = loans['Interest.Rate'].str.replace('%', '').astype(float)\n",
    "loans['Loan.Length'] = loans['Loan.Length'].str.replace('months', '').astype(float)\n",
    "loans['Debt.To.Income.Ratio'] = loans['Debt.To.Income.Ratio'].str.replace('%', '').astype(float)\n",
    "loans.dtypes"
   ]
  },
  {
   "cell_type": "code",
   "execution_count": 25,
   "id": "43d3dc60",
   "metadata": {},
   "outputs": [
    {
     "data": {
      "text/plain": [
       "Amount.Requested                   1\n",
       "Amount.Funded.By.Investors         1\n",
       "Interest.Rate                      2\n",
       "Loan.Length                        0\n",
       "Loan.Purpose                       0\n",
       "Debt.To.Income.Ratio               1\n",
       "State                              0\n",
       "Home.Ownership                     1\n",
       "Monthly.Income                     1\n",
       "FICO.Range                         2\n",
       "Open.CREDIT.Lines                  3\n",
       "Revolving.CREDIT.Balance           3\n",
       "Inquiries.in.the.Last.6.Months     3\n",
       "Employment.Length                 77\n",
       "dtype: int64"
      ]
     },
     "execution_count": 25,
     "metadata": {},
     "output_type": "execute_result"
    }
   ],
   "source": [
    "loans.isna().sum()"
   ]
  },
  {
   "cell_type": "markdown",
   "id": "487e8d10",
   "metadata": {},
   "source": [
    "### (a) Interest rate is varied for different loan amounts (Less interest charged for high loan amounts)."
   ]
  },
  {
   "cell_type": "code",
   "execution_count": 32,
   "id": "bc8a000f",
   "metadata": {},
   "outputs": [
    {
     "name": "stdout",
     "output_type": "stream",
     "text": [
      "Correlation coefficient: 0.3324537662008248\n",
      "Retain Null Hypothesis. There is no correlation between Interest.Rate & Amount.Funded.By.Investor\n"
     ]
    }
   ],
   "source": [
    "# H0: Interest rate and loan amounts are not correlated.\n",
    "# Ha: Interest rate and loan amounts are correlated.\n",
    "\n",
    "# Confidence Interval: 95% with p-value: 0.05\n",
    "\n",
    "loans_ = loans[['Interest.Rate', 'Amount.Requested']].copy()\n",
    "loans_.dropna(inplace = True)\n",
    "\n",
    "# We will perform correlation test here to check the correlation between the 2 variables,\n",
    "\n",
    "corr, _ = stats.pearsonr(loans_['Interest.Rate'], loans_['Amount.Requested'])\n",
    "print('Correlation coefficient:', corr)\n",
    "\n",
    "if abs(corr >= 0.5):\n",
    "    print('Reject Null Hypothesis. There is a strong correlation between Interest.Rate & Amount.Requested')\n",
    "else:\n",
    "    print('Retain Null Hypothesis. There is no correlation between Interest.Rate & Amount.Requested') "
   ]
  },
  {
   "cell_type": "markdown",
   "id": "67352721",
   "metadata": {},
   "source": [
    "### (b) Loan length is directly effecting interest rate."
   ]
  },
  {
   "cell_type": "code",
   "execution_count": 33,
   "id": "a2f80e77",
   "metadata": {},
   "outputs": [
    {
     "name": "stdout",
     "output_type": "stream",
     "text": [
      "Correlation coefficient: 0.42421960276133236\n",
      "Retain Null Hypothesis. There is no correlation between Interest.Rate & Loan.Length\n"
     ]
    }
   ],
   "source": [
    "# H0: There is no relation between Loan length and Interest rate.\n",
    "# Ha: There is a relation between Loan length and Interest rate.\n",
    "\n",
    "# Confidence Interval: 95% with p-value: 0.05\n",
    "\n",
    "loans_ = loans[['Interest.Rate', 'Loan.Length']].copy()\n",
    "loans_.dropna(inplace = True)\n",
    "\n",
    "# We will perform correlation test here to check the correlation between the 2 variables,\n",
    "\n",
    "corr, _ = stats.pearsonr(loans_['Interest.Rate'], loans_['Loan.Length'])\n",
    "print('Correlation coefficient:', corr)\n",
    "\n",
    "if abs(corr >= 0.5):\n",
    "    print('Reject Null Hypothesis. There is a strong correlation between Interest.Rate & Loan.Length')\n",
    "else:\n",
    "    print('Retain Null Hypothesis. There is no correlation between Interest.Rate & Loan.Length') "
   ]
  },
  {
   "cell_type": "markdown",
   "id": "49869885",
   "metadata": {},
   "source": [
    "### (c) Interest rate varies for different purpose of loans"
   ]
  },
  {
   "cell_type": "code",
   "execution_count": 36,
   "id": "aae57743",
   "metadata": {},
   "outputs": [
    {
     "name": "stdout",
     "output_type": "stream",
     "text": [
      "p-value: 0.002520113713544295\n",
      "Reject Null Hypothesis. Interest rate varies for different purpose of loans\n"
     ]
    }
   ],
   "source": [
    "# H0: Interest rate do not varies for different purpose of loans\n",
    "# Ha: Interest rate varies for different purpose of loans\n",
    "\n",
    "# Confidence Interval: 95% with p-value: 0.05\n",
    "\n",
    "loans_ = loans[['Interest.Rate', 'Loan.Purpose']].copy()\n",
    "loans_.dropna(inplace = True)\n",
    "\n",
    "# We will perform correlation test here to check the correlation between the 2 variables,\n",
    "\n",
    "corr, p_val = stats.spearmanr(loans_['Interest.Rate'], loans_['Loan.Purpose'])\n",
    "print('p-value:', p_val)\n",
    "\n",
    "if p_val < 0.05:\n",
    "    print('Reject Null Hypothesis. Interest rate varies for different purpose of loans')\n",
    "else:\n",
    "    print('Retain Null Hypothesis. Interest rate do not varies for different purpose of loans') "
   ]
  },
  {
   "cell_type": "markdown",
   "id": "d883e074",
   "metadata": {},
   "source": [
    "### (d) There is relationship between FICO scores and Home Ownership. It means that, People with owning home will have high FICO scores."
   ]
  },
  {
   "cell_type": "code",
   "execution_count": null,
   "id": "4c7e451d",
   "metadata": {},
   "outputs": [],
   "source": []
  },
  {
   "cell_type": "code",
   "execution_count": null,
   "id": "b1003925",
   "metadata": {},
   "outputs": [],
   "source": []
  }
 ],
 "metadata": {
  "kernelspec": {
   "display_name": "Python 3 (ipykernel)",
   "language": "python",
   "name": "python3"
  },
  "language_info": {
   "codemirror_mode": {
    "name": "ipython",
    "version": 3
   },
   "file_extension": ".py",
   "mimetype": "text/x-python",
   "name": "python",
   "nbconvert_exporter": "python",
   "pygments_lexer": "ipython3",
   "version": "3.9.12"
  }
 },
 "nbformat": 4,
 "nbformat_minor": 5
}
